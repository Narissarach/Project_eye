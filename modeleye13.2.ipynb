{
  "nbformat": 4,
  "nbformat_minor": 0,
  "metadata": {
    "colab": {
      "provenance": [],
      "authorship_tag": "ABX9TyPbIqAV5EWq4bMQy7rDdhba",
      "include_colab_link": true
    },
    "kernelspec": {
      "name": "python3",
      "display_name": "Python 3"
    },
    "language_info": {
      "name": "python"
    }
  },
  "cells": [
    {
      "cell_type": "markdown",
      "metadata": {
        "id": "view-in-github",
        "colab_type": "text"
      },
      "source": [
        "<a href=\"https://colab.research.google.com/github/Narissarach/Project_eye/blob/main/modeleye13.2.ipynb\" target=\"_parent\"><img src=\"https://colab.research.google.com/assets/colab-badge.svg\" alt=\"Open In Colab\"/></a>"
      ]
    },
    {
      "cell_type": "markdown",
      "source": [
        "# Modeleye 13.1"
      ],
      "metadata": {
        "id": "zXGPmbtxV5LV"
      }
    },
    {
      "cell_type": "code",
      "execution_count": 1,
      "metadata": {
        "colab": {
          "base_uri": "https://localhost:8080/"
        },
        "id": "zpN-dOg9V38E",
        "outputId": "4a98d3c1-1032-453b-d70c-0133cd8c6d38"
      },
      "outputs": [
        {
          "output_type": "stream",
          "name": "stdout",
          "text": [
            "Looking in indexes: https://pypi.org/simple, https://us-python.pkg.dev/colab-wheels/public/simple/\n",
            "Requirement already satisfied: opencv-python in /usr/local/lib/python3.8/dist-packages (4.6.0.66)\n",
            "Requirement already satisfied: numpy>=1.14.5 in /usr/local/lib/python3.8/dist-packages (from opencv-python) (1.22.4)\n"
          ]
        }
      ],
      "source": [
        "pip install opencv-python"
      ]
    },
    {
      "cell_type": "code",
      "source": [
        "import os,cv2\n",
        "import numpy as np\n",
        "import matplotlib.pyplot as plt\n",
        "import pathlib\n",
        "import PIL\n",
        "import plotly\n",
        "import plotly.graph_objs as go\n",
        "import pandas as pd\n",
        "from numpy import array\n",
        "from tensorflow.keras.preprocessing.image import ImageDataGenerator\n",
        "from tensorflow.keras import Sequential\n",
        "from tensorflow.keras.layers import (Dense, Conv2D, AveragePooling2D, Flatten, Dropout, BatchNormalization, MaxPool2D)\n",
        "import time\n",
        "from keras.preprocessing import image\n",
        "from tensorflow.keras.preprocessing.image import load_img, img_to_array\n",
        "import tensorflow as tf\n",
        "from tensorflow import keras\n",
        "from tensorflow.keras import layers\n",
        "from tensorflow.keras.models import Model, load_model\n",
        "from tensorflow.keras.models import model_from_json\n",
        "from tensorflow.keras.models import Sequential\n",
        "import requests\n",
        "from IPython.display import Image\n",
        "from io import BytesIO  \n",
        "import pickle as p \n",
        "import plotly.graph_objs as go  \n",
        "from sklearn.utils import shuffle\n",
        "from sklearn.model_selection import train_test_split\n",
        "from keras import backend as K\n",
        "K.image_data_format()\n",
        "from keras.utils import np_utils"
      ],
      "metadata": {
        "id": "MtytvcSkV7ts"
      },
      "execution_count": 2,
      "outputs": []
    },
    {
      "cell_type": "markdown",
      "source": [
        "## เตรียมชุดของข้อมูล"
      ],
      "metadata": {
        "id": "b2LFjtIVWDV0"
      }
    },
    {
      "cell_type": "code",
      "source": [
        "from google.colab import drive # เชื่อม drive ของเรา ถ้าเชื่อมสำเร็จจะขึ้นคำว่า Mounted at /content/drive \n",
        "drive.mount('/content/drive')"
      ],
      "metadata": {
        "colab": {
          "base_uri": "https://localhost:8080/"
        },
        "id": "ll39NuUBWAaz",
        "outputId": "e8d663a7-26a4-42c8-cc59-75404db9a9ce"
      },
      "execution_count": 3,
      "outputs": [
        {
          "output_type": "stream",
          "name": "stdout",
          "text": [
            "Mounted at /content/drive\n"
          ]
        }
      ]
    },
    {
      "cell_type": "code",
      "source": [
        "import os # os จัดการเกี่ยวกับไฟล์ต่างๆ ในโฟล์เดอร์\n",
        "path = '/content/drive/My Drive/lastoct'  # data เราอยู่โฟล์เดอร์ไหน"
      ],
      "metadata": {
        "id": "lMtNkzKDWFKK"
      },
      "execution_count": 4,
      "outputs": []
    },
    {
      "cell_type": "code",
      "source": [
        "image = cv2.imread('/content/drive/My Drive/lastoct/train/CSC/IA3870 19-12-16 RE_000_cropped.png')"
      ],
      "metadata": {
        "id": "TenXdk-aWJtS"
      },
      "execution_count": 5,
      "outputs": []
    },
    {
      "cell_type": "code",
      "source": [
        "print(type(image))\n",
        "print(image.shape)"
      ],
      "metadata": {
        "colab": {
          "base_uri": "https://localhost:8080/"
        },
        "id": "GFL6O3ejWL46",
        "outputId": "56516b52-3677-45b5-9ac9-d5a320171d0a"
      },
      "execution_count": 6,
      "outputs": [
        {
          "output_type": "stream",
          "name": "stdout",
          "text": [
            "<class 'numpy.ndarray'>\n",
            "(496, 496, 3)\n"
          ]
        }
      ]
    },
    {
      "cell_type": "code",
      "source": [
        "batch_size = 32   # กำหนดขนาดของแต่ละการอ่านข้อมูล\n",
        "img_height = 256  # ความสูงของรูปภาพแต่ละรูป\n",
        "img_width = 256   # ความกว้างของรูปภาพแต่ละรูป\n",
        "\n",
        "num_classes = 4"
      ],
      "metadata": {
        "id": "5uUVp0qqWNoh"
      },
      "execution_count": 7,
      "outputs": []
    },
    {
      "cell_type": "markdown",
      "source": [
        "## Train"
      ],
      "metadata": {
        "id": "IcBWSIlPWRDM"
      }
    },
    {
      "cell_type": "code",
      "source": [
        "# Train\n",
        "train_dir = \"/content/drive/My Drive/lastoct/train\"\n",
        "train_datagen = ImageDataGenerator(rescale = 1./255,\n",
        "         rotation_range = 50,\n",
        "         zoom_range = 0.5)\n",
        "\n",
        "train_set = train_datagen.flow_from_directory(train_dir, target_size=(img_height, img_width), batch_size=batch_size, class_mode='categorical')"
      ],
      "metadata": {
        "colab": {
          "base_uri": "https://localhost:8080/"
        },
        "id": "pqztxPSVWPFK",
        "outputId": "7d44079e-5853-4a53-e619-66a0e80b87f1"
      },
      "execution_count": 8,
      "outputs": [
        {
          "output_type": "stream",
          "name": "stdout",
          "text": [
            "Found 17779 images belonging to 4 classes.\n"
          ]
        }
      ]
    },
    {
      "cell_type": "code",
      "source": [
        "print('Train')\n",
        "ids, counts = np.unique(train_set.classes, return_counts=True)\n",
        "print(ids)        # คลาส\n",
        "print(counts)     # จำนวนภาพของคลาส"
      ],
      "metadata": {
        "colab": {
          "base_uri": "https://localhost:8080/"
        },
        "id": "eYIRUZv2WTGN",
        "outputId": "a074f94e-3547-4820-9fdb-38c344aa94fd"
      },
      "execution_count": 9,
      "outputs": [
        {
          "output_type": "stream",
          "name": "stdout",
          "text": [
            "Train\n",
            "[0 1 2 3]\n",
            "[4552 4469 4385 4373]\n"
          ]
        }
      ]
    },
    {
      "cell_type": "code",
      "source": [
        "train_set[0][0][0].shape   # W*H*3 (3 Channel RGB) "
      ],
      "metadata": {
        "colab": {
          "base_uri": "https://localhost:8080/"
        },
        "id": "xXFfX3oRWVDj",
        "outputId": "5bb35de3-a1df-485b-dfe4-6a4371106d27"
      },
      "execution_count": 10,
      "outputs": [
        {
          "output_type": "execute_result",
          "data": {
            "text/plain": [
              "(256, 256, 3)"
            ]
          },
          "metadata": {},
          "execution_count": 10
        }
      ]
    },
    {
      "cell_type": "markdown",
      "source": [
        "## Validation"
      ],
      "metadata": {
        "id": "GuRo663eWaDM"
      }
    },
    {
      "cell_type": "code",
      "source": [
        "# Validation\n",
        "val_dir =\"/content/drive/My Drive/lastoct/validation\"\n",
        "val_datagen = ImageDataGenerator(rescale = 1./255,         \n",
        "       rotation_range = 50,\n",
        "       zoom_range = 0.5)\n",
        "\n",
        "val_set = val_datagen.flow_from_directory(val_dir, target_size=(img_height, img_width), batch_size=batch_size, class_mode='categorical')"
      ],
      "metadata": {
        "colab": {
          "base_uri": "https://localhost:8080/"
        },
        "id": "nH0tWEoVWXAT",
        "outputId": "cfcf4219-eaf2-42fe-a089-94cd63e58119"
      },
      "execution_count": 11,
      "outputs": [
        {
          "output_type": "stream",
          "name": "stdout",
          "text": [
            "Found 2217 images belonging to 4 classes.\n"
          ]
        }
      ]
    },
    {
      "cell_type": "code",
      "source": [
        "print('Validation')\n",
        "ids, counts = np.unique(val_set.classes, return_counts=True)\n",
        "print(ids)        # คลาส\n",
        "print(counts)     # จำนวนข้อมูลของคลาส"
      ],
      "metadata": {
        "colab": {
          "base_uri": "https://localhost:8080/"
        },
        "id": "CDY96aDOWZdL",
        "outputId": "3dcfd604-6ece-45aa-9869-b6125c834da6"
      },
      "execution_count": 12,
      "outputs": [
        {
          "output_type": "stream",
          "name": "stdout",
          "text": [
            "Validation\n",
            "[0 1 2 3]\n",
            "[528 546 540 603]\n"
          ]
        }
      ]
    },
    {
      "cell_type": "markdown",
      "source": [
        "## Test"
      ],
      "metadata": {
        "id": "x3GMv8pcXAto"
      }
    },
    {
      "cell_type": "code",
      "source": [
        "# Test\n",
        "test_dir =\"/content/drive/My Drive/lastoct/test\"\n",
        "test_datagen = ImageDataGenerator(rescale = 1./255)\n",
        "\n",
        "test_set = tf.keras.utils.image_dataset_from_directory(test_dir,image_size=(img_height, img_width))"
      ],
      "metadata": {
        "colab": {
          "base_uri": "https://localhost:8080/"
        },
        "id": "1TrfBa-gWd6T",
        "outputId": "78e88f9d-31e0-4201-d943-58a0ffda32f1"
      },
      "execution_count": 13,
      "outputs": [
        {
          "output_type": "stream",
          "name": "stdout",
          "text": [
            "Found 2182 files belonging to 4 classes.\n"
          ]
        }
      ]
    },
    {
      "cell_type": "code",
      "source": [
        "class_names = test_set.class_names\n",
        "print(class_names)"
      ],
      "metadata": {
        "colab": {
          "base_uri": "https://localhost:8080/"
        },
        "id": "OzquvmGLXE6-",
        "outputId": "ee66b05d-a9c3-415c-c41c-6d6309a12890"
      },
      "execution_count": 14,
      "outputs": [
        {
          "output_type": "stream",
          "name": "stdout",
          "text": [
            "['CSC', 'Normal', 'PCV', 'VKH']\n"
          ]
        }
      ]
    },
    {
      "cell_type": "markdown",
      "source": [
        "## Training "
      ],
      "metadata": {
        "id": "66kd8hiKXJL9"
      }
    },
    {
      "cell_type": "markdown",
      "source": [
        "### สร้าง Model"
      ],
      "metadata": {
        "id": "rwCtLLHrXLzR"
      }
    },
    {
      "cell_type": "code",
      "source": [
        "num_classes = 4\n",
        "epochs=10   # จำนวนครั้งที่เราจะ Train\n",
        "# ขนาดภาพอินพุตเข้าสู่ Model\n",
        "in_shape = (256,256,3)\n",
        "in_shape"
      ],
      "metadata": {
        "colab": {
          "base_uri": "https://localhost:8080/"
        },
        "id": "KBHFDuGpXHBj",
        "outputId": "dd9189de-ee46-4ea4-8bb1-c05e25796546"
      },
      "execution_count": 15,
      "outputs": [
        {
          "output_type": "execute_result",
          "data": {
            "text/plain": [
              "(256, 256, 3)"
            ]
          },
          "metadata": {},
          "execution_count": 15
        }
      ]
    },
    {
      "cell_type": "code",
      "source": [
        "model = Sequential()   # สร้าง Model\n",
        "\n",
        "# สร้างชั้น Convolution ชั้นแรก ค่าพารามิเตอร์ activation ใช้ ReLU\n",
        "model.add(Conv2D(8, (3,3), activation = 'relu', input_shape = in_shape))\n",
        "model.add(MaxPool2D((2,2)))    # สร้างชั้น Max Pooling ค่าพารามิเตอร์ 2,2 คือ Pool Size\n",
        "model.add(Dropout(0.4))\n",
        "\n",
        "# ชั้นที่ 2\n",
        "model.add(Conv2D(16, (3,3), activation = 'relu'))\n",
        "model.add(MaxPool2D((2,2)))\n",
        "\n",
        "# ชั้นที่ 3 \n",
        "model.add(Conv2D(32, (3,3), activation='relu'))\n",
        "model.add(MaxPool2D((2,2)))\n",
        "\n",
        "# FULLY CONNECTED LAYER\n",
        "model.add(Flatten())\n",
        "model.add(Dense(64, activation='relu'))\n",
        "\n",
        "# Output layer\n",
        "model.add(Dense(4, activation='softmax')) # 4 คลาส\n",
        "model.summary()          # ดูสรุปโครงสร้าง Model"
      ],
      "metadata": {
        "colab": {
          "base_uri": "https://localhost:8080/"
        },
        "id": "yV471iYGXNor",
        "outputId": "970fbf43-4abe-4681-ea19-10e1305cdf9e"
      },
      "execution_count": 16,
      "outputs": [
        {
          "output_type": "stream",
          "name": "stdout",
          "text": [
            "Model: \"sequential\"\n",
            "_________________________________________________________________\n",
            " Layer (type)                Output Shape              Param #   \n",
            "=================================================================\n",
            " conv2d (Conv2D)             (None, 254, 254, 8)       224       \n",
            "                                                                 \n",
            " max_pooling2d (MaxPooling2D  (None, 127, 127, 8)      0         \n",
            " )                                                               \n",
            "                                                                 \n",
            " dropout (Dropout)           (None, 127, 127, 8)       0         \n",
            "                                                                 \n",
            " conv2d_1 (Conv2D)           (None, 125, 125, 16)      1168      \n",
            "                                                                 \n",
            " max_pooling2d_1 (MaxPooling  (None, 62, 62, 16)       0         \n",
            " 2D)                                                             \n",
            "                                                                 \n",
            " conv2d_2 (Conv2D)           (None, 60, 60, 32)        4640      \n",
            "                                                                 \n",
            " max_pooling2d_2 (MaxPooling  (None, 30, 30, 32)       0         \n",
            " 2D)                                                             \n",
            "                                                                 \n",
            " flatten (Flatten)           (None, 28800)             0         \n",
            "                                                                 \n",
            " dense (Dense)               (None, 64)                1843264   \n",
            "                                                                 \n",
            " dense_1 (Dense)             (None, 4)                 260       \n",
            "                                                                 \n",
            "=================================================================\n",
            "Total params: 1,849,556\n",
            "Trainable params: 1,849,556\n",
            "Non-trainable params: 0\n",
            "_________________________________________________________________\n"
          ]
        }
      ]
    },
    {
      "cell_type": "markdown",
      "source": [
        "##### ดู kernel"
      ],
      "metadata": {
        "id": "X3Fpr8sCXTSH"
      }
    },
    {
      "cell_type": "code",
      "source": [
        "for layer in model.layers:\n",
        "  if 'conv' not in layer.name:\n",
        "       continue\n",
        "  kernels, biases = layer.get_weights()\n",
        "  print(layer.name, 'shape:', kernels.shape)"
      ],
      "metadata": {
        "colab": {
          "base_uri": "https://localhost:8080/"
        },
        "id": "ecrtdmZLXQab",
        "outputId": "be4c0dbc-bb76-4dce-f1c9-1efed0b94419"
      },
      "execution_count": 17,
      "outputs": [
        {
          "output_type": "stream",
          "name": "stdout",
          "text": [
            "conv2d shape: (3, 3, 3, 8)\n",
            "conv2d_1 shape: (3, 3, 8, 16)\n",
            "conv2d_2 shape: (3, 3, 16, 32)\n"
          ]
        }
      ]
    },
    {
      "cell_type": "code",
      "source": [
        "k_min, k_max = kernels.min(), kernels.max()\n",
        "kernels = (kernels - k_min)/ (k_max - k_min)\n",
        "kernel_idx = 0\n",
        "kernel_i = kernels[:, :, 0, kernel_idx]\n",
        "print(kernel_i.round(2))"
      ],
      "metadata": {
        "colab": {
          "base_uri": "https://localhost:8080/"
        },
        "id": "s1aUsYIeXVF7",
        "outputId": "c06815e5-19da-4f9c-f210-cd74e1d5e2c4"
      },
      "execution_count": 18,
      "outputs": [
        {
          "output_type": "stream",
          "name": "stdout",
          "text": [
            "[[0.86 0.65 0.16]\n",
            " [0.2  0.34 0.26]\n",
            " [0.84 0.87 0.14]]\n"
          ]
        }
      ]
    },
    {
      "cell_type": "code",
      "source": [
        "nplots = 15\n",
        "fig = plt.figure(figsize = (10, 8))\n",
        "for j in range(nplots):\n",
        "  plt.subplot(5, 5, j+1)\n",
        "  plt.imshow(kernels[:, :, 0, j], cmap = plt.cm.gray)\n",
        "  plt.title(j)\n",
        "  plt.xticks([]); plt.yticks([])\n",
        "plt.show()"
      ],
      "metadata": {
        "colab": {
          "base_uri": "https://localhost:8080/",
          "height": 305
        },
        "id": "XTnxCM-0XX_7",
        "outputId": "185a11fc-8d9c-4911-cd25-0abbe929a5db"
      },
      "execution_count": 19,
      "outputs": [
        {
          "output_type": "display_data",
          "data": {
            "text/plain": [
              "<Figure size 720x576 with 15 Axes>"
            ],
            "image/png": "[encoded data removed]"
          },
          "metadata": {}
        }
      ]
    },
    {
      "cell_type": "code",
      "source": [
        "image = load_img('/content/drive/My Drive/lastoct/train/CSC/IA3870 19-12-16 RE_000_cropped.png', target_size=(256, 256))\n",
        "plt.imshow(image)\n",
        "plt.show()"
      ],
      "metadata": {
        "colab": {
          "base_uri": "https://localhost:8080/",
          "height": 269
        },
        "id": "iLv7NCwBXaPD",
        "outputId": "b51d30b6-c48d-47de-9678-686b130ee3f2"
      },
      "execution_count": 20,
      "outputs": [
        {
          "output_type": "display_data",
          "data": {
            "text/plain": [
              "<Figure size 432x288 with 1 Axes>"
            ],
            "image/png": "[encoded data removed]"
          },
          "metadata": {
            "needs_background": "light"
          }
        }
      ]
    },
    {
      "cell_type": "code",
      "source": [
        "img1 = img_to_array(image)\n",
        "print('shape =', img1.shape)\n",
        "print('max pixel value =', np.max(img1))"
      ],
      "metadata": {
        "colab": {
          "base_uri": "https://localhost:8080/"
        },
        "id": "yxQgIz_PXbx0",
        "outputId": "e28f4bec-6d06-4d07-9aad-d9f42c21169c"
      },
      "execution_count": 21,
      "outputs": [
        {
          "output_type": "stream",
          "name": "stdout",
          "text": [
            "shape = (256, 256, 3)\n",
            "max pixel value = 255.0\n"
          ]
        }
      ]
    },
    {
      "cell_type": "markdown",
      "source": [
        "### Compile และ Train"
      ],
      "metadata": {
        "id": "AZ3LDHHDXgTE"
      }
    },
    {
      "cell_type": "code",
      "source": [
        "model.compile(loss = 'categorical_crossentropy', optimizer = 'adam', metrics = ['accuracy'])"
      ],
      "metadata": {
        "id": "gS6btu9pXdi0"
      },
      "execution_count": 22,
      "outputs": []
    },
    {
      "cell_type": "code",
      "source": [
        "start = time.time()\n",
        "\n",
        "history = model.fit(train_set, steps_per_epoch=len(train_set), \n",
        "                    validation_data=val_set, \n",
        "                    epochs=10,verbose=1)\n",
        "\n",
        "end = time.time()\n",
        "print(\"Time Taken: {:.2f} minutes\".format((end-start)/60))"
      ],
      "metadata": {
        "colab": {
          "base_uri": "https://localhost:8080/"
        },
        "id": "XXyD3PFBXkcL",
        "outputId": "2913d5e3-5776-41c7-deb8-3a610bd1a552"
      },
      "execution_count": null,
      "outputs": [
        {
          "output_type": "stream",
          "name": "stdout",
          "text": [
            "Epoch 1/10\n",
            "  4/556 [..............................] - ETA: 3:32:16 - loss: 1.7719 - accuracy: 0.3125"
          ]
        }
      ]
    },
    {
      "cell_type": "markdown",
      "source": [
        "### Save Model"
      ],
      "metadata": {
        "id": "AdrrKwB8X2YL"
      }
    },
    {
      "cell_type": "code",
      "source": [
        "with open('history_model', 'wb') as file:\n",
        "   p.dump(history.history, file)\n",
        "\n",
        "filepath='modeleye13d1.h5'\n",
        "model.save(filepath)\n",
        "filepath_model = 'modeleye13d1.json'\n",
        "filepath_weights = 'weights_model.h5'\n",
        "model_json = model.to_json()\n",
        "with open(filepath_model, \"w\") as json_file:\n",
        "   json_file.write(model_json)\n",
        "\n",
        "model.save_weights('weights_model.h5')\n",
        "print(\"Saved model to disk\")"
      ],
      "metadata": {
        "id": "yLIHpdDTX20r"
      },
      "execution_count": null,
      "outputs": []
    },
    {
      "cell_type": "markdown",
      "source": [
        "### Load Model"
      ],
      "metadata": {
        "id": "vfWqb1CTX7iM"
      }
    },
    {
      "cell_type": "code",
      "source": [
        "with open('history_model', 'rb') as file:\n",
        "   his = p.load(file)\n",
        "\n",
        "h1 = go.Scatter(y=his['val_accuracy'],\n",
        "mode=\"lines\", line=dict(\n",
        "width=2,\n",
        "color='blue'),\n",
        "name=\"val_accuracy\"\n",
        ")\n",
        "h2 = go.Scatter(y=his['val_loss'],\n",
        "mode=\"lines\", line=dict(\n",
        "width=2,\n",
        "color='red'),\n",
        "name=\"val_loss\"\n",
        ")\n",
        "\n",
        "data = [h1,h2]\n",
        "layout1 = go.Layout(title='Loss',\n",
        "xaxis=dict(title='epochs'),\n",
        "yaxis=dict(title=' '))\n",
        "fig1 = go.Figure(data, layout=layout1)\n",
        "plotly.offline.iplot(fig1, filename=\"testOCT\")\n",
        "predict_model = load_model(filepath)\n",
        "predict_model.summary()\n",
        "with open(filepath_model, 'r') as f:\n",
        "   loaded_model_json = f.read()\n",
        "predict_model = model_from_json(loaded_model_json)\n",
        "predict_model.load_weights(filepath_weights)\n",
        "print(\"Loaded model from disk\")"
      ],
      "metadata": {
        "id": "QnOLf3S2X5e1"
      },
      "execution_count": null,
      "outputs": []
    },
    {
      "cell_type": "markdown",
      "source": [
        "## ประเมิน"
      ],
      "metadata": {
        "id": "IJvGXsJvYAbM"
      }
    },
    {
      "cell_type": "code",
      "source": [
        "plt.figure(figsize = (15, 6))\n",
        "plt.subplot(1, 2 , 1)\n",
        "plt.title('Loss')\n",
        "plt.plot(history.history['loss'], label = 'Train Loss')\n",
        "plt.plot(history.history['val_loss'], 'r', lw = 3.2, label = 'Validation loss')\n",
        "plt.legend()"
      ],
      "metadata": {
        "id": "uI9B2AsqX5q0"
      },
      "execution_count": null,
      "outputs": []
    },
    {
      "cell_type": "code",
      "source": [
        "plt.figure(figsize = (15, 6))\n",
        "plt.subplot(1, 2, 2)\n",
        "plt.title('Accuracy')\n",
        "plt.plot(history.history['accuracy'], label = 'Train')\n",
        "plt.plot(history.history['val_accuracy'], 'r', lw = 3.2, label = 'Validation')\n",
        "plt.legend()\n",
        "plt.tight_layout()\n",
        "plt.show()"
      ],
      "metadata": {
        "id": "c4_747uvX5tv"
      },
      "execution_count": null,
      "outputs": []
    },
    {
      "cell_type": "code",
      "source": [
        "acc = model.evaluate(val_set, steps = len(val_set), verbose = 0)\n",
        "print('score = {:.3f}' .format(acc[1]))"
      ],
      "metadata": {
        "id": "gVLb9SsAX5wY"
      },
      "execution_count": null,
      "outputs": []
    },
    {
      "cell_type": "markdown",
      "source": [
        "### Prediction"
      ],
      "metadata": {
        "id": "pAmGTW0CYGwp"
      }
    },
    {
      "cell_type": "code",
      "source": [
        "import requests\n",
        "from IPython.display import Image\n",
        "from io import BytesIO\n",
        "from sklearn.metrics import confusion_matrix\n",
        "import pandas as pd\n",
        "import numpy as np\n",
        "import seaborn as sns\n",
        "import matplotlib.pyplot as plt\n",
        "from keras.preprocessing import image\n",
        "from keras.preprocessing import image \n",
        "import keras.utils as image"
      ],
      "metadata": {
        "id": "vinZAOyLYIzz"
      },
      "execution_count": null,
      "outputs": []
    },
    {
      "cell_type": "code",
      "source": [
        "# CSC\n",
        "test_path = ('/content/drive/My Drive/lastoct/test/CSC/FQ8979 23-03-12 RE_000_cropped.png')\n",
        "img = keras.preprocessing.image.load_img(\n",
        "test_path, target_size=(img_height, img_width)\n",
        ")\n",
        "img_array = keras.preprocessing.image.img_to_array(img)\n",
        "img_array = tf.expand_dims(img_array, 0) # Create a batch\n",
        "predictions = predict_model.predict(img_array)\n",
        "score = tf.nn.softmax(predictions[0])\n",
        "print(\"CSC\",score[0],\"Normal\",score[1],\"PCV\",score[2],\"VKH\",score[3])\n",
        "display(Image(filename=test_path,width=256, height=256))\n",
        "if score[0]==np.max(score):\n",
        "  eye = \"CSC\"\n",
        "elif score[1]==np.max(score):\n",
        "  eye = \"Normal\"\n",
        "elif score[2]==np.max(score):\n",
        "  eye = \"PCV\"\n",
        "elif score[3]==np.max(score):\n",
        "  eye = \"VKH\"\n",
        "print(\n",
        "\"AI {} มีความมั่นใจ {:.2f}%.\"\n",
        ".format(eye, 100 * np.max(score))\n",
        ")"
      ],
      "metadata": {
        "id": "jMNPfP00ZT1k"
      },
      "execution_count": null,
      "outputs": []
    },
    {
      "cell_type": "code",
      "source": [
        "# Normal\n",
        "test_path = ('/content/drive/My Drive/lastoct/test/Normal/CJ5901 24-01-19 RE_000_cropped.png')\n",
        "img = keras.preprocessing.image.load_img(\n",
        "test_path, target_size=(img_height, img_width)\n",
        ")\n",
        "img_array = keras.preprocessing.image.img_to_array(img)\n",
        "img_array = tf.expand_dims(img_array, 0) # Create a batch\n",
        "predictions = predict_model.predict(img_array)\n",
        "score = tf.nn.softmax(predictions[0])\n",
        "print(\"CSC\",score[0],\"Normal\",score[1],\"PCV\",score[2],\"VKH\",score[3])\n",
        "display(Image(filename=test_path,width=256, height=256))\n",
        "if score[0]==np.max(score):\n",
        "  eye = \"CSC\"\n",
        "elif score[1]==np.max(score):\n",
        "  eye = \"Normal\"\n",
        "elif score[2]==np.max(score):\n",
        "  eye = \"PCV\"\n",
        "elif score[3]==np.max(score):\n",
        "  eye = \"VKH\"\n",
        "print(\n",
        "\"AI {} มีความมั่นใจ {:.2f}%.\"\n",
        ".format(eye, 100 * np.max(score))\n",
        ")"
      ],
      "metadata": {
        "id": "irsn2wi8ZT4B"
      },
      "execution_count": null,
      "outputs": []
    },
    {
      "cell_type": "code",
      "source": [
        "# PCV\n",
        "test_path = ('/content/drive/My Drive/lastoct/test/PCV/AV0940 20-09-16 RE_001003_cropped.png')\n",
        "img = keras.preprocessing.image.load_img(\n",
        "test_path, target_size=(img_height, img_width)\n",
        ")\n",
        "img_array = keras.preprocessing.image.img_to_array(img)\n",
        "img_array = tf.expand_dims(img_array, 0) # Create a batch\n",
        "predictions = predict_model.predict(img_array)\n",
        "score = tf.nn.softmax(predictions[0])\n",
        "print(\"CSC\",score[0],\"Normal\",score[1],\"PCV\",score[2],\"VKH\",score[3])\n",
        "display(Image(filename=test_path,width=256, height=256))\n",
        "if score[0]==np.max(score):\n",
        "  eye = \"CSC\"\n",
        "elif score[1]==np.max(score):\n",
        "  eye = \"Normal\"\n",
        "elif score[2]==np.max(score):\n",
        "  eye = \"PCV\"\n",
        "elif score[3]==np.max(score):\n",
        "  eye = \"VKH\"\n",
        "print(\n",
        "\"AI {} มีความมั่นใจ {:.2f}%.\"\n",
        ".format(eye, 100 * np.max(score))\n",
        ")"
      ],
      "metadata": {
        "id": "VSRTbbMnZT6v"
      },
      "execution_count": null,
      "outputs": []
    },
    {
      "cell_type": "code",
      "source": [
        "# VKH\n",
        "test_path = ('/content/drive/My Drive/lastoct/test/VKH/KH7322 18-12-20 LE_001004_cropped.png')\n",
        "img = keras.preprocessing.image.load_img(\n",
        "test_path, target_size=(img_height, img_width)\n",
        ")\n",
        "img_array = keras.preprocessing.image.img_to_array(img)\n",
        "img_array = tf.expand_dims(img_array, 0) # Create a batch\n",
        "predictions = predict_model.predict(img_array)\n",
        "score = tf.nn.softmax(predictions[0])\n",
        "print(\"CSC\",score[0],\"Normal\",score[1],\"PCV\",score[2],\"VKH\",score[3])\n",
        "display(Image(filename=test_path,width=256, height=256))\n",
        "if score[0]==np.max(score):\n",
        "  eye = \"CSC\"\n",
        "elif score[1]==np.max(score):\n",
        "  eye = \"Normal\"\n",
        "elif score[2]==np.max(score):\n",
        "  eye = \"PCV\"\n",
        "elif score[3]==np.max(score):\n",
        "  eye = \"VKH\"\n",
        "print(\n",
        "\"AI {} มีความมั่นใจ {:.2f}%.\"\n",
        ".format(eye, 100 * np.max(score))\n",
        ")"
      ],
      "metadata": {
        "id": "ps8u5a3oZT9m"
      },
      "execution_count": null,
      "outputs": []
    },
    {
      "cell_type": "markdown",
      "source": [
        "### Testing"
      ],
      "metadata": {
        "id": "ljP496mPZfnx"
      }
    },
    {
      "cell_type": "code",
      "source": [
        "y_test = []; y_pred = []\n",
        "class_names = test_set.class_names\n",
        "for images, labels in test_set:\n",
        "  for i in range(len(list(labels))):\n",
        "    img_array = keras.preprocessing.image.img_to_array(images[i])\n",
        "    X_test = tf.expand_dims(img_array, 0)\n",
        "    score = predict_model.predict(X_test)\n",
        "    if score[0][0]==np.max(score):\n",
        "      eye = \"CSC\"\n",
        "    elif score[0][1]==np.max(score):\n",
        "      eye = \"Normal\"\n",
        "    elif score[0][2]==np.max(score):\n",
        "      eye = \"PCV\"\n",
        "    elif score[0][3]==np.max(score):\n",
        "      eye = \"VKH\"\n",
        "    y_pred.append(eye)\n",
        "    y_test.append(class_names[labels[i]])"
      ],
      "metadata": {
        "id": "8JxAjolZZdOs"
      },
      "execution_count": null,
      "outputs": []
    },
    {
      "cell_type": "code",
      "source": [
        "print(y_test)\n",
        "print(len(y_test))\n",
        "print(y_pred)\n",
        "print(len(y_pred))"
      ],
      "metadata": {
        "id": "ibvBI-WbZdR6"
      },
      "execution_count": null,
      "outputs": []
    },
    {
      "cell_type": "markdown",
      "source": [
        "## Confusion Matrix"
      ],
      "metadata": {
        "id": "DJl5KdDvZsAh"
      }
    },
    {
      "cell_type": "code",
      "source": [
        "from sklearn.metrics import confusion_matrix\n",
        "import pandas as pd\n",
        "import numpy as np\n",
        "import seaborn as sns\n",
        "import matplotlib.pyplot as plt"
      ],
      "metadata": {
        "id": "YmVNdHknZdXL"
      },
      "execution_count": null,
      "outputs": []
    },
    {
      "cell_type": "code",
      "source": [
        "confusion_matrix(y_test, y_pred)"
      ],
      "metadata": {
        "id": "kJsUNgAVZdbD"
      },
      "execution_count": null,
      "outputs": []
    },
    {
      "cell_type": "code",
      "source": [
        "cm = confusion_matrix(y_test, y_pred)"
      ],
      "metadata": {
        "id": "wO-OdUPaZ1Uw"
      },
      "execution_count": null,
      "outputs": []
    },
    {
      "cell_type": "code",
      "source": [
        "test_set.class_names"
      ],
      "metadata": {
        "id": "lqdUT2JQZ1X6"
      },
      "execution_count": null,
      "outputs": []
    },
    {
      "cell_type": "code",
      "source": [
        "cm_df = pd.DataFrame(cm,\n",
        "                     index = ['CSC', 'Normal', 'PCV', 'VKH'], \n",
        "                     columns = ['CSC', 'Normal', 'PCV', 'VKH'])"
      ],
      "metadata": {
        "id": "fEF7g5qiZ1am"
      },
      "execution_count": null,
      "outputs": []
    },
    {
      "cell_type": "code",
      "source": [
        "cm_df"
      ],
      "metadata": {
        "id": "Q5AZZ9eMZ5xT"
      },
      "execution_count": null,
      "outputs": []
    },
    {
      "cell_type": "code",
      "source": [
        "plt.figure(figsize=(10,5))\n",
        "sns.heatmap(cm_df, annot=True)\n",
        "plt.title('Confusion Matrix')\n",
        "plt.ylabel('Actual Values')\n",
        "plt.xlabel('Predicted Values')\n",
        "plt.show()"
      ],
      "metadata": {
        "id": "S60HxxWgZ50A"
      },
      "execution_count": null,
      "outputs": []
    },
    {
      "cell_type": "markdown",
      "source": [
        "### หาค่า Accuracy,Recall, Precision, F1-score"
      ],
      "metadata": {
        "id": "373kPACqaAHq"
      }
    },
    {
      "cell_type": "code",
      "source": [
        "from sklearn.metrics import accuracy_score\n",
        "from sklearn.metrics import recall_score\n",
        "from sklearn.metrics import precision_score\n",
        "from sklearn.metrics import f1_score"
      ],
      "metadata": {
        "id": "lB62zYf1Z52W"
      },
      "execution_count": null,
      "outputs": []
    },
    {
      "cell_type": "code",
      "source": [
        "# accuracy: (tp + tn) / (p + n)\n",
        "accuracy = accuracy_score(y_test, y_pred)\n",
        "print('Accuracy: %f' % accuracy)"
      ],
      "metadata": {
        "id": "xl7JnX_2aB23"
      },
      "execution_count": null,
      "outputs": []
    },
    {
      "cell_type": "code",
      "source": [
        "# recall: tp / (tp + fn)\n",
        "recall = recall_score(y_test, y_pred, average='weighted') ### ในส่วนของ average='weighted' หนูไม่มั่นใจว่าควรใส่เป็น macro, micro หรือ weight\n",
        "print('Recall: %f' % recall)"
      ],
      "metadata": {
        "id": "VNltRADNaDg9"
      },
      "execution_count": null,
      "outputs": []
    },
    {
      "cell_type": "code",
      "source": [
        "# precision tp / (tp + fp)\n",
        "precision = precision_score(y_test, y_pred, average='weighted') ### ในส่วนของ average='weighted' หนูไม่มั่นใจว่าควรใส่เป็น macro, micro หรือ weight\n",
        "print('Precision: %f' % precision)"
      ],
      "metadata": {
        "id": "-SoJfyC5aFOc"
      },
      "execution_count": null,
      "outputs": []
    },
    {
      "cell_type": "code",
      "source": [
        "# f1: 2 tp / (2 tp + fp + fn)\n",
        "f1 = f1_score(y_test, y_pred, average='weighted') ### ในส่วนของ average='weighted' หนูไม่มั่นใจว่าควรใส่เป็น macro, micro หรือ weight\n",
        "print('F1 score: %f' % f1)"
      ],
      "metadata": {
        "id": "_bYeuld9aGrU"
      },
      "execution_count": null,
      "outputs": []
    }
  ]
}