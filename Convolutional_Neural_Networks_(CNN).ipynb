{
  "cells": [
    {
      "cell_type": "markdown",
      "metadata": {
        "id": "view-in-github",
        "colab_type": "text"
      },
      "source": [
        "<a href=\"https://colab.research.google.com/github/Narissarach/Project_eye/blob/main/Convolutional_Neural_Networks_(CNN).ipynb\" target=\"_parent\"><img src=\"https://colab.research.google.com/assets/colab-badge.svg\" alt=\"Open In Colab\"/></a>"
      ]
    },
    {
      "cell_type": "markdown",
      "metadata": {
        "id": "k_2f3EWYFjqz"
      },
      "source": [
        "## Convolutional Neural Networks (CNN): สร้าง Model เพื่อทำ Image Classification ด้วย TensorFlow"
      ]
    },
    {
      "cell_type": "markdown",
      "metadata": {
        "id": "JuFMNkAdOvBE"
      },
      "source": [
        "### เตรียมข้อมูล (Data Processing)"
      ]
    },
    {
      "cell_type": "markdown",
      "metadata": {
        "id": "1Knj-0tQVKMc"
      },
      "source": [
        "ข้อมูล CIFAR-10 จำนวน 60,000 ภาพ โดยแบ่งเป็น 10 หมวด ได้แก่ \n",
        "เครื่องบิน แทนด้วย 0,\n",
        "รถ แทนด้วย 1,\n",
        "นก แทนด้วย 2,\n",
        "แมว แทนด้วย 3,\n",
        "กวาง แทนด้วย 4,\n",
        "สุนัข แทนด้วย 5,\n",
        "กบ แทนด้วย 6,\n",
        "ม้า แทนด้วย 7,\n",
        "เรือ แทนด้วย 8,\n",
        "รถบรรทุก แทนด้วย 9\n"
      ]
    },
    {
      "cell_type": "markdown",
      "metadata": {
        "id": "sqWeqPWrO-n0"
      },
      "source": [
        "https://medium.com/@app.kkloft/convolutional-neural-networks-cnn-%E0%B8%AA%E0%B8%A3%E0%B9%89%E0%B8%B2%E0%B8%87-model-%E0%B9%80%E0%B8%9E%E0%B8%B7%E0%B9%88%E0%B8%AD%E0%B8%97%E0%B8%B3-image-classification-%E0%B8%94%E0%B9%89%E0%B8%A7%E0%B8%A2-tensorflow-58173661cfeb"
      ]
    },
    {
      "cell_type": "markdown",
      "metadata": {
        "id": "sX96dkTtSxwL"
      },
      "source": [
        "#### Import ข้อมูลจาก keras.datasets "
      ]
    },
    {
      "cell_type": "code",
      "execution_count": 1,
      "metadata": {
        "colab": {
          "base_uri": "https://localhost:8080/"
        },
        "id": "m21Wqt1pFcSs",
        "outputId": "8671579c-b993-4d9e-c888-82bfb645e57d"
      },
      "outputs": [
        {
          "output_type": "stream",
          "name": "stdout",
          "text": [
            "Downloading data from https://www.cs.toronto.edu/~kriz/cifar-10-python.tar.gz\n",
            "170500096/170498071 [==============================] - 2s 0us/step\n",
            "170508288/170498071 [==============================] - 2s 0us/step\n"
          ]
        }
      ],
      "source": [
        "from tensorflow.keras.datasets import cifar10\n",
        "\n",
        "(in_train, out_train), (in_test, out_test) = cifar10.load_data()"
      ]
    },
    {
      "cell_type": "markdown",
      "metadata": {
        "id": "Apyg0ICeSBZY"
      },
      "source": [
        "ข้อมูลรูปภาพที่ใช้ train ถูกโหลดเข้าไปเก็บในตัวแปร in_train และ out_train \n",
        "และข้อมูลรูปภาพที่ใช้ test ถูกโหลดเข้าไปเก็บในตัวแปร in_test และ out_test"
      ]
    },
    {
      "cell_type": "markdown",
      "metadata": {
        "id": "Figi1Rp1SUtL"
      },
      "source": [
        "#### ตรวจสอบประเภทข้อมูล และขนาดข้อมูลโดยใช้คำสั่ง type และ shape"
      ]
    },
    {
      "cell_type": "code",
      "execution_count": 2,
      "metadata": {
        "colab": {
          "base_uri": "https://localhost:8080/"
        },
        "id": "UmxKWXcRRaj9",
        "outputId": "b0c8bbbd-4531-43df-fc25-646a57cfa107"
      },
      "outputs": [
        {
          "output_type": "execute_result",
          "data": {
            "text/plain": [
              "(50000, 32, 32, 3)"
            ]
          },
          "metadata": {},
          "execution_count": 2
        }
      ],
      "source": [
        "type(in_train)\n",
        "# numpy.ndarray\n",
        "\n",
        "in_train.shape\n"
      ]
    },
    {
      "cell_type": "markdown",
      "metadata": {
        "id": "nwWxfZiQShyP"
      },
      "source": [
        "training dataset มีจำนวน 50,000 ภาพ แต่ละภาพมีขนาด 32x32 และเป็นภาพสีซึ่งประกอบด้วยข้อมูล 3 ชุดได้แก่ R (แดง), G (เขียว), B (น้ำเงิน)"
      ]
    },
    {
      "cell_type": "markdown",
      "metadata": {
        "id": "ow3RjjQQTyVE"
      },
      "source": [
        "#### ดูภาพที่โหลดเข้ามา ใช้คำสั่ง imshow จาก matplotlib.pyplot\n",
        "คำสั่ง imshow (in_train[0]) จะแสดงภาพแรกในชุดข้อมูล input ที่ load ไว้ในตัวแปร in_train "
      ]
    },
    {
      "cell_type": "code",
      "execution_count": 3,
      "metadata": {
        "colab": {
          "base_uri": "https://localhost:8080/",
          "height": 283
        },
        "id": "U4bGPzj9SYLu",
        "outputId": "d8adb8ff-abeb-49a5-da2d-4fb991b23b06"
      },
      "outputs": [
        {
          "output_type": "execute_result",
          "data": {
            "text/plain": [
              "<matplotlib.image.AxesImage at 0x7f0505e42250>"
            ]
          },
          "metadata": {},
          "execution_count": 3
        },
        {
          "output_type": "display_data",
          "data": {
            "text/plain": [
              "<Figure size 432x288 with 1 Axes>"
            ],
            "image/png": "[encoded data removed]"
          },
          "metadata": {
            "needs_background": "light"
          }
        }
      ],
      "source": [
        "import matplotlib.pyplot as plt\n",
        "plt.imshow(in_train[0])"
      ]
    },
    {
      "cell_type": "markdown",
      "metadata": {
        "id": "WZJENaF3UQSR"
      },
      "source": [
        "#### Preprocess Output\n",
        "แปลงค่าของชุดข้อมูลภาพให้อยู่ในช่วง 0 ถึง 1 โดยการตรวจสอบค่าสูงสุดของชุดข้อมูลแล้วนำไปหารแต่ละค่า"
      ]
    },
    {
      "cell_type": "code",
      "execution_count": 4,
      "metadata": {
        "colab": {
          "base_uri": "https://localhost:8080/"
        },
        "id": "S7c7SEdMT3Ld",
        "outputId": "673ac0d7-248c-464f-e77c-7ab15c65b2fe"
      },
      "outputs": [
        {
          "output_type": "execute_result",
          "data": {
            "text/plain": [
              "255"
            ]
          },
          "metadata": {},
          "execution_count": 4
        }
      ],
      "source": [
        "in_train.max() #ค่าสูงสุดคือ 255"
      ]
    },
    {
      "cell_type": "code",
      "execution_count": 5,
      "metadata": {
        "id": "Pa5DvgskUdDn"
      },
      "outputs": [],
      "source": [
        "in_train = in_train/255 #นำค่าสูงสุดไปหาร\n",
        "in_test = in_test/255"
      ]
    },
    {
      "cell_type": "markdown",
      "metadata": {
        "id": "LtEOHV9zUtSs"
      },
      "source": [
        "#### ตรวจสอบข้อมูล output ในชุดข้อมูล training "
      ]
    },
    {
      "cell_type": "code",
      "execution_count": 6,
      "metadata": {
        "colab": {
          "base_uri": "https://localhost:8080/"
        },
        "id": "x8qa1ANGUn_T",
        "outputId": "628ba379-06f2-44b6-ce6e-ea2dbe637795"
      },
      "outputs": [
        {
          "output_type": "execute_result",
          "data": {
            "text/plain": [
              "numpy.ndarray"
            ]
          },
          "metadata": {},
          "execution_count": 6
        }
      ],
      "source": [
        "type(out_train)"
      ]
    },
    {
      "cell_type": "code",
      "execution_count": 7,
      "metadata": {
        "colab": {
          "base_uri": "https://localhost:8080/"
        },
        "id": "TTpZWkvjUzl9",
        "outputId": "70827fae-d0e5-4cea-fe2e-4dbc69d8731e"
      },
      "outputs": [
        {
          "output_type": "execute_result",
          "data": {
            "text/plain": [
              "(50000, 1)"
            ]
          },
          "metadata": {},
          "execution_count": 7
        }
      ],
      "source": [
        "out_train.shape"
      ]
    },
    {
      "cell_type": "code",
      "execution_count": 8,
      "metadata": {
        "colab": {
          "base_uri": "https://localhost:8080/"
        },
        "id": "V19-wg9LU4Wd",
        "outputId": "0fb501ba-eefa-4881-b8a9-f88433de736d"
      },
      "outputs": [
        {
          "output_type": "execute_result",
          "data": {
            "text/plain": [
              "array([6], dtype=uint8)"
            ]
          },
          "metadata": {},
          "execution_count": 8
        }
      ],
      "source": [
        "out_train[0]"
      ]
    },
    {
      "cell_type": "markdown",
      "metadata": {
        "id": "xpiGHayxVG-b"
      },
      "source": [
        "ข้อมูล output มีจำนวน 50,000 โดยเป็นข้อมูล 1 มิติ จากตัวอย่างแสดงให้เห็นว่า output แรกของชุดข้อมูล train มีค่าเป็น 6 ซึ่งเป็นค่าแทนหมวดภาพ กบ"
      ]
    },
    {
      "cell_type": "markdown",
      "metadata": {
        "id": "F1kRxc73V98A"
      },
      "source": [
        "#### แปลงรูปแบบข้อมูลให้เป็น one-hot categorical โดยใช้ to_categorical จาก tensorflow.keras.utils\n",
        "รูปแบบ one-hot categorical ซึ่งหมายถึง array ที่มีค่าเป็น 0 ทั้งหมด ยกเว้นตำแหน่งที่ตรงกับตัวเลขเดิมจะมีค่าเป็น 1"
      ]
    },
    {
      "cell_type": "code",
      "execution_count": 9,
      "metadata": {
        "id": "QEbE0W64U6s0"
      },
      "outputs": [],
      "source": [
        "from tensorflow.keras.utils import to_categorical\n",
        "out_cat_train = to_categorical(out_train, 10)\n",
        "out_cat_test = to_categorical(out_test, 10)"
      ]
    },
    {
      "cell_type": "code",
      "execution_count": 10,
      "metadata": {
        "colab": {
          "base_uri": "https://localhost:8080/"
        },
        "id": "PMkLw_GCWJn-",
        "outputId": "76f4df1d-80f5-4cd5-dbb4-609ec972dc63"
      },
      "outputs": [
        {
          "output_type": "execute_result",
          "data": {
            "text/plain": [
              "array([6], dtype=uint8)"
            ]
          },
          "metadata": {},
          "execution_count": 10
        }
      ],
      "source": [
        "out_train[0] #ตำแหน่งที่ 6"
      ]
    },
    {
      "cell_type": "code",
      "execution_count": 11,
      "metadata": {
        "colab": {
          "base_uri": "https://localhost:8080/"
        },
        "id": "ajJ2sfx-WPAN",
        "outputId": "fa1248c7-ac55-4a13-ee9c-f6ba69caf541"
      },
      "outputs": [
        {
          "output_type": "execute_result",
          "data": {
            "text/plain": [
              "array([0., 0., 0., 0., 0., 0., 1., 0., 0., 0.], dtype=float32)"
            ]
          },
          "metadata": {},
          "execution_count": 11
        }
      ],
      "source": [
        "out_cat_train[0] #ตำแหน่งเดิมถูกแทนที่ด้วย 1"
      ]
    },
    {
      "cell_type": "markdown",
      "metadata": {
        "id": "WbicVAWIXuwO"
      },
      "source": [
        "### สร้างโมเดล (Model Creation)"
      ]
    },
    {
      "cell_type": "markdown",
      "metadata": {
        "id": "ZIgjHue5aVNe"
      },
      "source": [
        "#### ทำการ import library ที่จำเป็น\n",
        "เริ่มจาก model ที่เป็นแบบ Sequential และ layer ต่างๆ ได้แก่ Conv2D, MaxPool2D, Dense และ Flatten"
      ]
    },
    {
      "cell_type": "code",
      "execution_count": 12,
      "metadata": {
        "id": "Km6Rb9dbWVw0"
      },
      "outputs": [],
      "source": [
        "from tensorflow.keras.models import Sequential\n",
        "from tensorflow.keras.layers import Dense, Conv2D, MaxPool2D, Flatten"
      ]
    },
    {
      "cell_type": "markdown",
      "metadata": {
        "id": "A9B_030rbjDl"
      },
      "source": [
        "Conv2D layer — จะสร้าง feature map หรือ kernel ที่นำไป apply กับภาพที่เป็น input โดยจะ scan ไปให้ทั่วภาพ\n",
        "\n",
        "Pooling layer — ช่วนลดขนาดของ output ที่ได้จาก layer ก่อนหน้าลง โดยคงไว้ซึ่งคุณสมบัติของข้อมูลให้มากที่สุด\n",
        "\n",
        "Flatten layer — ทำการแปลงข้อมูล output ที่มีหลายมิติ ให้เป็น 1 มิติ เพื่อเตรียมข้อมูลให้อยู่ใน format สำหรับเป็น input ให้กับ Fully connected Layer\n",
        "\n",
        "Dense layer or Fully connected Layer— ข้อมูลจากทุกๆ input จะเชื่อมต่อไปยัง output ทุกๆ node โดยแต่ละการเชื่อมต่อจะคูณด้วย weight ที่ต่างกัน และที่ทุกๆ node ของ output จะสามารถกำหนด activation ที่เหมาะสมได้"
      ]
    },
    {
      "cell_type": "markdown",
      "metadata": {
        "id": "smvthvGyb6Jc"
      },
      "source": [
        "#### สร้าง model ของ Convolutional Neural Networks โดยใช้ Keras"
      ]
    },
    {
      "cell_type": "code",
      "execution_count": 13,
      "metadata": {
        "id": "kalaIt3EbgBP"
      },
      "outputs": [],
      "source": [
        "# Create Sequential Model\n",
        "model = Sequential()\n",
        "# Layer 1: Convolutional Layer\n",
        "model.add(Conv2D(filters=32, kernel_size=(4,4), input_shape=(32,32,3), activation='relu',))\n",
        "# Layer 2: Pooling Layer\n",
        "model.add(MaxPool2D(pool_size=(2,2)))\n",
        "# Layer 3: Convolutional Layer\n",
        "model.add(Conv2D(filters=32, kernel_size=(4,4), input_shape=(32,32,3), activation='relu',))\n",
        "# Layer 4: Pooling Layer\n",
        "model.add(MaxPool2D(pool_size=(2,2)))\n",
        "# Layer 5: Flatten Layer\n",
        "model.add(Flatten())\n",
        "# Layer 6: Dense Layer (Hidden Layer)\n",
        "model.add(Dense(256, activation='relu'))\n",
        "# Layer 7: Dense Layer (Output Layer)\n",
        "model.add(Dense(10, activation='softmax'))"
      ]
    },
    {
      "cell_type": "markdown",
      "metadata": {
        "id": "qXl5vxjmiqoZ"
      },
      "source": [
        "Convolutional Layer รองรับ Input เป็นภาพสีขนาด 32x32 ให้ Output ออกมา 32 features โดยมี kernel ขนาด 4x4 และใช้ Activation Function เป็น Rectified Linear Unit\n",
        "\n",
        "Pooling Layer ใช้เป็น Max Pool ขนาด 2x2 โดยจะทำการลดขนาด input ลงได้ถึง 1/4\n",
        "\n",
        "Flatten layer ที่ทำการแปลงข้อมูล multi dimension ให้เป็น vector\n",
        "\n",
        "Dense Layer แรกเป็น Hidden Layer กำหนดให้มีจำนวน output เป็น 256 และใช้ Activation Function เป็น Rectified Linear Unit\n",
        "\n",
        "Dense Layer ที่สองเป็น Output Layer ของ Network เราต้องกำหนดให้มีจำนวน output เท่ากับจำนวนหมวดหมู่ภาพที่เราต้องการจัดแบ่ง ในตัวอย่างคือกำหนดเป็น 10 และเราใช้ Activation Function เป็น Softmax เนื่องจาก Output ของเราเป็น Multi-Class"
      ]
    },
    {
      "cell_type": "markdown",
      "metadata": {
        "id": "u3tZX6Pui8P2"
      },
      "source": [
        "#### ใช้คำสั่ง summary เพื่อเรียกดูรูปแบบ model และจำนวนตัวแปรในแต่ละ layer"
      ]
    },
    {
      "cell_type": "code",
      "execution_count": 14,
      "metadata": {
        "colab": {
          "base_uri": "https://localhost:8080/"
        },
        "id": "Pn0QoqbVicHi",
        "outputId": "b43f25ca-ebde-40c1-e610-37c49fb302bc"
      },
      "outputs": [
        {
          "output_type": "stream",
          "name": "stdout",
          "text": [
            "Model: \"sequential\"\n",
            "_________________________________________________________________\n",
            " Layer (type)                Output Shape              Param #   \n",
            "=================================================================\n",
            " conv2d (Conv2D)             (None, 29, 29, 32)        1568      \n",
            "                                                                 \n",
            " max_pooling2d (MaxPooling2D  (None, 14, 14, 32)       0         \n",
            " )                                                               \n",
            "                                                                 \n",
            " conv2d_1 (Conv2D)           (None, 11, 11, 32)        16416     \n",
            "                                                                 \n",
            " max_pooling2d_1 (MaxPooling  (None, 5, 5, 32)         0         \n",
            " 2D)                                                             \n",
            "                                                                 \n",
            " flatten (Flatten)           (None, 800)               0         \n",
            "                                                                 \n",
            " dense (Dense)               (None, 256)               205056    \n",
            "                                                                 \n",
            " dense_1 (Dense)             (None, 10)                2570      \n",
            "                                                                 \n",
            "=================================================================\n",
            "Total params: 225,610\n",
            "Trainable params: 225,610\n",
            "Non-trainable params: 0\n",
            "_________________________________________________________________\n"
          ]
        }
      ],
      "source": [
        "model.summary()"
      ]
    },
    {
      "cell_type": "markdown",
      "metadata": {
        "id": "NQ4q95mMjE6g"
      },
      "source": [
        "#### config ค่าให้กับ model โดยใช้คำสั่ง compile\n",
        "กำหนดให้ model ใช้ Function loss ชื่อ categorical_crossentropy โดย model จะปรับค่าในขั้นตอนการ training เพื่อลดค่าของ loss"
      ]
    },
    {
      "cell_type": "code",
      "execution_count": 15,
      "metadata": {
        "id": "6wouoBj5i_tI"
      },
      "outputs": [],
      "source": [
        "model.compile(loss='categorical_crossentropy', optimizer='adam', metrics=['accuracy'])"
      ]
    },
    {
      "cell_type": "markdown",
      "metadata": {
        "id": "xud9jpP2jkMd"
      },
      "source": [
        "#### ให้ model เริ่ม train ด้วยคำสั่ง fit"
      ]
    },
    {
      "cell_type": "code",
      "execution_count": 16,
      "metadata": {
        "colab": {
          "base_uri": "https://localhost:8080/"
        },
        "id": "gLvr6nfZjjh9",
        "outputId": "426531b9-47fb-4ac1-c0d9-f63357bddf19"
      },
      "outputs": [
        {
          "output_type": "stream",
          "name": "stdout",
          "text": [
            "Epoch 1/15\n",
            "1563/1563 [==============================] - 73s 46ms/step - loss: 1.5178 - accuracy: 0.4495 - val_loss: 1.3013 - val_accuracy: 0.5338\n",
            "Epoch 2/15\n",
            "1563/1563 [==============================] - 63s 40ms/step - loss: 1.1870 - accuracy: 0.5796 - val_loss: 1.1301 - val_accuracy: 0.6002\n",
            "Epoch 3/15\n",
            "1563/1563 [==============================] - 62s 40ms/step - loss: 1.0338 - accuracy: 0.6391 - val_loss: 1.0729 - val_accuracy: 0.6290\n",
            "Epoch 4/15\n",
            "1563/1563 [==============================] - 62s 40ms/step - loss: 0.9205 - accuracy: 0.6793 - val_loss: 1.0068 - val_accuracy: 0.6490\n",
            "Epoch 5/15\n",
            "1563/1563 [==============================] - 62s 40ms/step - loss: 0.8231 - accuracy: 0.7123 - val_loss: 0.9635 - val_accuracy: 0.6660\n",
            "Epoch 6/15\n",
            "1563/1563 [==============================] - 62s 40ms/step - loss: 0.7449 - accuracy: 0.7393 - val_loss: 0.9643 - val_accuracy: 0.6750\n",
            "Epoch 7/15\n",
            "1563/1563 [==============================] - 62s 40ms/step - loss: 0.6750 - accuracy: 0.7634 - val_loss: 0.9557 - val_accuracy: 0.6832\n",
            "Epoch 8/15\n",
            "1563/1563 [==============================] - 62s 40ms/step - loss: 0.6048 - accuracy: 0.7890 - val_loss: 0.9873 - val_accuracy: 0.6857\n",
            "Epoch 9/15\n",
            "1563/1563 [==============================] - 62s 40ms/step - loss: 0.5491 - accuracy: 0.8059 - val_loss: 1.0007 - val_accuracy: 0.6875\n",
            "Epoch 10/15\n",
            "1563/1563 [==============================] - 63s 40ms/step - loss: 0.4850 - accuracy: 0.8304 - val_loss: 1.0466 - val_accuracy: 0.6898\n",
            "Epoch 11/15\n",
            "1563/1563 [==============================] - 62s 40ms/step - loss: 0.4400 - accuracy: 0.8442 - val_loss: 1.1135 - val_accuracy: 0.6764\n",
            "Epoch 12/15\n",
            "1563/1563 [==============================] - 63s 40ms/step - loss: 0.3874 - accuracy: 0.8632 - val_loss: 1.1839 - val_accuracy: 0.6827\n",
            "Epoch 13/15\n",
            "1563/1563 [==============================] - 62s 40ms/step - loss: 0.3398 - accuracy: 0.8805 - val_loss: 1.2849 - val_accuracy: 0.6771\n",
            "Epoch 14/15\n",
            "1563/1563 [==============================] - 62s 40ms/step - loss: 0.3086 - accuracy: 0.8902 - val_loss: 1.3196 - val_accuracy: 0.6820\n",
            "Epoch 15/15\n",
            "1563/1563 [==============================] - 62s 40ms/step - loss: 0.2711 - accuracy: 0.9033 - val_loss: 1.4699 - val_accuracy: 0.6705\n"
          ]
        },
        {
          "output_type": "execute_result",
          "data": {
            "text/plain": [
              "<keras.callbacks.History at 0x7f0501af15d0>"
            ]
          },
          "metadata": {},
          "execution_count": 16
        }
      ],
      "source": [
        "model.fit(in_train, out_cat_train, epochs=15, validation_data=(in_test, out_cat_test))"
      ]
    },
    {
      "cell_type": "markdown",
      "metadata": {
        "id": "6kY1Gdq8nLND"
      },
      "source": [
        "แบ่งข้อมูลในการ training เป็น 15 รอบ (epochs) ในแต่ละรอบจะใช้ข้อมูลทั้งหมดจากตัวแปร in_train และ out_cat_train สำหรับการ validate จะใช้ข้อมูล test"
      ]
    },
    {
      "cell_type": "code",
      "execution_count": 24,
      "metadata": {
        "colab": {
          "base_uri": "https://localhost:8080/"
        },
        "id": "GSslPO6mjKTR",
        "outputId": "e733bb14-4c9d-466c-f15d-2e2dbfe7784f"
      },
      "outputs": [
        {
          "output_type": "stream",
          "name": "stdout",
          "text": [
            "Epoch 1/15\n",
            "1563/1563 [==============================] - 64s 41ms/step - loss: 0.1693 - accuracy: 0.9399 - val_loss: 1.9545 - val_accuracy: 0.6681\n",
            "Epoch 2/15\n",
            "1563/1563 [==============================] - 62s 40ms/step - loss: 0.1573 - accuracy: 0.9437 - val_loss: 2.0711 - val_accuracy: 0.6553\n",
            "Epoch 3/15\n",
            "1563/1563 [==============================] - 62s 39ms/step - loss: 0.1472 - accuracy: 0.9480 - val_loss: 2.2341 - val_accuracy: 0.6605\n"
          ]
        },
        {
          "output_type": "execute_result",
          "data": {
            "text/plain": [
              "<keras.callbacks.History at 0x7f04febe65d0>"
            ]
          },
          "metadata": {},
          "execution_count": 24
        }
      ],
      "source": [
        "from tensorflow.keras.callbacks import EarlyStopping\n",
        "early_stop = EarlyStopping(monitor='val_loss', patience=2)\n",
        "model.fit(in_train, out_cat_train, epochs=15, validation_data=(in_test, out_cat_test), callbacks=[early_stop])"
      ]
    },
    {
      "cell_type": "markdown",
      "source": [
        "ตัวอย่างข้างบน เรากำหนดให้ model คอย monitor ค่า loss จาก validation data แล้วถ้าค่า loss ใน รอบการ training ไม่ลดลงหรือมีค่าเพิ่มขึ้น ให้หยุดการ training ค่า patience=2 หมายถึงให้หยุดเมื่อค่า loss เพิ่มขึ้น 2 รอบ (epochs) แล้ว ###ในตย.มี 8 รอบ"
      ],
      "metadata": {
        "id": "vj-7Nef0J2sF"
      }
    },
    {
      "cell_type": "markdown",
      "source": [
        "### การประเมินผลโมเดล (Model Evaluation)"
      ],
      "metadata": {
        "id": "oXb1jA61KBhx"
      }
    },
    {
      "cell_type": "markdown",
      "source": [
        "#### ดูผลการรันย้อนหลังด้วยคำสั่ง history โดยคำสั่งนี้จะแสดงตัววัด หรือ metrics ในทุกรอบการรัน"
      ],
      "metadata": {
        "id": "-AdeQxqDKIuV"
      }
    },
    {
      "cell_type": "code",
      "source": [
        "import pandas as pd"
      ],
      "metadata": {
        "id": "H8tCxhMVKoo9"
      },
      "execution_count": 21,
      "outputs": []
    },
    {
      "cell_type": "code",
      "execution_count": 25,
      "metadata": {
        "colab": {
          "base_uri": "https://localhost:8080/",
          "height": 143
        },
        "id": "CbaFgztNndvz",
        "outputId": "e5b5683b-89f3-48e1-f78d-5ca5fa5bd0e4"
      },
      "outputs": [
        {
          "output_type": "execute_result",
          "data": {
            "text/plain": [
              "       loss  accuracy  val_loss  val_accuracy\n",
              "0  0.169257   0.93988  1.954508        0.6681\n",
              "1  0.157287   0.94366  2.071125        0.6553\n",
              "2  0.147216   0.94798  2.234104        0.6605"
            ],
            "text/html": [
              "\n",
              "  <div id=\"df-3546a37e-fd91-42ba-9786-17cf5265495a\">\n",
              "    <div class=\"colab-df-container\">\n",
              "      <div>\n",
              "<style scoped>\n",
              "    .dataframe tbody tr th:only-of-type {\n",
              "        vertical-align: middle;\n",
              "    }\n",
              "\n",
              "    .dataframe tbody tr th {\n",
              "        vertical-align: top;\n",
              "    }\n",
              "\n",
              "    .dataframe thead th {\n",
              "        text-align: right;\n",
              "    }\n",
              "</style>\n",
              "<table border=\"1\" class=\"dataframe\">\n",
              "  <thead>\n",
              "    <tr style=\"text-align: right;\">\n",
              "      <th></th>\n",
              "      <th>loss</th>\n",
              "      <th>accuracy</th>\n",
              "      <th>val_loss</th>\n",
              "      <th>val_accuracy</th>\n",
              "    </tr>\n",
              "  </thead>\n",
              "  <tbody>\n",
              "    <tr>\n",
              "      <th>0</th>\n",
              "      <td>0.169257</td>\n",
              "      <td>0.93988</td>\n",
              "      <td>1.954508</td>\n",
              "      <td>0.6681</td>\n",
              "    </tr>\n",
              "    <tr>\n",
              "      <th>1</th>\n",
              "      <td>0.157287</td>\n",
              "      <td>0.94366</td>\n",
              "      <td>2.071125</td>\n",
              "      <td>0.6553</td>\n",
              "    </tr>\n",
              "    <tr>\n",
              "      <th>2</th>\n",
              "      <td>0.147216</td>\n",
              "      <td>0.94798</td>\n",
              "      <td>2.234104</td>\n",
              "      <td>0.6605</td>\n",
              "    </tr>\n",
              "  </tbody>\n",
              "</table>\n",
              "</div>\n",
              "      <button class=\"colab-df-convert\" onclick=\"convertToInteractive('df-3546a37e-fd91-42ba-9786-17cf5265495a')\"\n",
              "              title=\"Convert this dataframe to an interactive table.\"\n",
              "              style=\"display:none;\">\n",
              "        \n",
              "  <svg xmlns=\"http://www.w3.org/2000/svg\" height=\"24px\"viewBox=\"0 0 24 24\"\n",
              "       width=\"24px\">\n",
              "    <path d=\"M0 0h24v24H0V0z\" fill=\"none\"/>\n",
              "    <path d=\"M18.56 5.44l.94 2.06.94-2.06 2.06-.94-2.06-.94-.94-2.06-.94 2.06-2.06.94zm-11 1L8.5 8.5l.94-2.06 2.06-.94-2.06-.94L8.5 2.5l-.94 2.06-2.06.94zm10 10l.94 2.06.94-2.06 2.06-.94-2.06-.94-.94-2.06-.94 2.06-2.06.94z\"/><path d=\"M17.41 7.96l-1.37-1.37c-.4-.4-.92-.59-1.43-.59-.52 0-1.04.2-1.43.59L10.3 9.45l-7.72 7.72c-.78.78-.78 2.05 0 2.83L4 21.41c.39.39.9.59 1.41.59.51 0 1.02-.2 1.41-.59l7.78-7.78 2.81-2.81c.8-.78.8-2.07 0-2.86zM5.41 20L4 18.59l7.72-7.72 1.47 1.35L5.41 20z\"/>\n",
              "  </svg>\n",
              "      </button>\n",
              "      \n",
              "  <style>\n",
              "    .colab-df-container {\n",
              "      display:flex;\n",
              "      flex-wrap:wrap;\n",
              "      gap: 12px;\n",
              "    }\n",
              "\n",
              "    .colab-df-convert {\n",
              "      background-color: #E8F0FE;\n",
              "      border: none;\n",
              "      border-radius: 50%;\n",
              "      cursor: pointer;\n",
              "      display: none;\n",
              "      fill: #1967D2;\n",
              "      height: 32px;\n",
              "      padding: 0 0 0 0;\n",
              "      width: 32px;\n",
              "    }\n",
              "\n",
              "    .colab-df-convert:hover {\n",
              "      background-color: #E2EBFA;\n",
              "      box-shadow: 0px 1px 2px rgba(60, 64, 67, 0.3), 0px 1px 3px 1px rgba(60, 64, 67, 0.15);\n",
              "      fill: #174EA6;\n",
              "    }\n",
              "\n",
              "    [theme=dark] .colab-df-convert {\n",
              "      background-color: #3B4455;\n",
              "      fill: #D2E3FC;\n",
              "    }\n",
              "\n",
              "    [theme=dark] .colab-df-convert:hover {\n",
              "      background-color: #434B5C;\n",
              "      box-shadow: 0px 1px 3px 1px rgba(0, 0, 0, 0.15);\n",
              "      filter: drop-shadow(0px 1px 2px rgba(0, 0, 0, 0.3));\n",
              "      fill: #FFFFFF;\n",
              "    }\n",
              "  </style>\n",
              "\n",
              "      <script>\n",
              "        const buttonEl =\n",
              "          document.querySelector('#df-3546a37e-fd91-42ba-9786-17cf5265495a button.colab-df-convert');\n",
              "        buttonEl.style.display =\n",
              "          google.colab.kernel.accessAllowed ? 'block' : 'none';\n",
              "\n",
              "        async function convertToInteractive(key) {\n",
              "          const element = document.querySelector('#df-3546a37e-fd91-42ba-9786-17cf5265495a');\n",
              "          const dataTable =\n",
              "            await google.colab.kernel.invokeFunction('convertToInteractive',\n",
              "                                                     [key], {});\n",
              "          if (!dataTable) return;\n",
              "\n",
              "          const docLinkHtml = 'Like what you see? Visit the ' +\n",
              "            '<a target=\"_blank\" href=https://colab.research.google.com/notebooks/data_table.ipynb>data table notebook</a>'\n",
              "            + ' to learn more about interactive tables.';\n",
              "          element.innerHTML = '';\n",
              "          dataTable['output_type'] = 'display_data';\n",
              "          await google.colab.output.renderOutput(dataTable, element);\n",
              "          const docLink = document.createElement('div');\n",
              "          docLink.innerHTML = docLinkHtml;\n",
              "          element.appendChild(docLink);\n",
              "        }\n",
              "      </script>\n",
              "    </div>\n",
              "  </div>\n",
              "  "
            ]
          },
          "metadata": {},
          "execution_count": 25
        }
      ],
      "source": [
        "metrics = pd.DataFrame(model.history.history)\n",
        "metrics"
      ]
    },
    {
      "cell_type": "markdown",
      "source": [
        "#### การ plot graph ของ metrics"
      ],
      "metadata": {
        "id": "VdqKZYXkMC1h"
      }
    },
    {
      "cell_type": "code",
      "source": [
        "metrics[['loss', 'val_loss']].plot()"
      ],
      "metadata": {
        "colab": {
          "base_uri": "https://localhost:8080/",
          "height": 282
        },
        "id": "zZZmLV3mKP_d",
        "outputId": "1f0a146b-c33a-4466-a685-cfdb1b858d10"
      },
      "execution_count": 26,
      "outputs": [
        {
          "output_type": "execute_result",
          "data": {
            "text/plain": [
              "<matplotlib.axes._subplots.AxesSubplot at 0x7f04feb5e750>"
            ]
          },
          "metadata": {},
          "execution_count": 26
        },
        {
          "output_type": "display_data",
          "data": {
            "text/plain": [
              "<Figure size 432x288 with 1 Axes>"
            ],
            "image/png": "[encoded data removed]"
          },
          "metadata": {
            "needs_background": "light"
          }
        }
      ]
    },
    {
      "cell_type": "markdown",
      "source": [
        "กราฟระหว่างค่า loss ที่ได้จากชุดข้อมูล train กับ ชุดข้อมูล test แสดงให้เห็นว่าในรอบการรันที่ 6 และ 7 ค่า loss ของชุดข้อมูล train ยังคงลดลง แต่ค่า loss ของชุดข้อมูล test เริ่มเพิ่มขึ้น หากเรายัง train model ต่อไปก็อาจทำให้ model ของเราเกิด overfit ขึ้นได้"
      ],
      "metadata": {
        "id": "54jwo-pGMY-8"
      }
    },
    {
      "cell_type": "code",
      "source": [
        "metrics[['accuracy', 'val_accuracy']].plot()"
      ],
      "metadata": {
        "colab": {
          "base_uri": "https://localhost:8080/",
          "height": 282
        },
        "id": "Yn8fV_gQMGvY",
        "outputId": "7538467d-3150-4ffd-df33-aabe985e88bc"
      },
      "execution_count": 27,
      "outputs": [
        {
          "output_type": "execute_result",
          "data": {
            "text/plain": [
              "<matplotlib.axes._subplots.AxesSubplot at 0x7f04feaeb550>"
            ]
          },
          "metadata": {},
          "execution_count": 27
        },
        {
          "output_type": "display_data",
          "data": {
            "text/plain": [
              "<Figure size 432x288 with 1 Axes>"
            ],
            "image/png": "[encoded data removed]"
          },
          "metadata": {
            "needs_background": "light"
          }
        }
      ]
    },
    {
      "cell_type": "markdown",
      "source": [
        "สำหรับค่าความถูกต้องหรือ accuracy นั้นก็แสดงไปในทิศทางที่สอดคล้องกัน คือในรอบการ train ที่ 6 และ 7 แม้ว่าค่าความถูกต้องของชุดข้อมูล train จะเพิ่มขึ้น แต่เมื่อทดสอบกับชุดข้อมูล test พบว่าค่าเริ่มลดลง การหยุด train model จึงช่วยให้ model ไม่เกิด overfit เกินไป"
      ],
      "metadata": {
        "id": "0ufUE2lmMfL7"
      }
    },
    {
      "cell_type": "markdown",
      "source": [
        "#### คำสั่งที่ใช้หาค่าตัววัด model คือ evaluate"
      ],
      "metadata": {
        "id": "qHNUktErMnXQ"
      }
    },
    {
      "cell_type": "code",
      "source": [
        "model.evaluate(in_test, out_cat_test, verbose=0)"
      ],
      "metadata": {
        "colab": {
          "base_uri": "https://localhost:8080/"
        },
        "id": "r6lc9cO6MfwR",
        "outputId": "c6f227ff-bc4c-44af-ce87-5ca49bb860d0"
      },
      "execution_count": 28,
      "outputs": [
        {
          "output_type": "execute_result",
          "data": {
            "text/plain": [
              "[2.2341036796569824, 0.6604999899864197]"
            ]
          },
          "metadata": {},
          "execution_count": 28
        }
      ]
    },
    {
      "cell_type": "markdown",
      "source": [
        "Output # [0.9964422744750977, 0.6838]\n",
        "สำหรับ model ของเรามีตัววัด 2 ตัว ค่าแรกคือ loss และค่าที่สองคือ accuracy"
      ],
      "metadata": {
        "id": "zVh7n4FSMy_s"
      }
    },
    {
      "cell_type": "markdown",
      "source": [
        "### การนำโมเดลไปใช้งาน"
      ],
      "metadata": {
        "id": "qVPWge8oNOa_"
      }
    },
    {
      "cell_type": "code",
      "source": [
        "from tensorflow.keras.datasets import cifar10\n",
        "(in_train, out_train), (in_test, out_test) = cifar10.load_data()\n",
        "my_image = in_test[10]\n",
        "plt.imshow(my_image)\n"
      ],
      "metadata": {
        "colab": {
          "base_uri": "https://localhost:8080/",
          "height": 283
        },
        "id": "d-QNH1IBNF27",
        "outputId": "8298d73f-fc17-405f-bb17-f41d71321b6f"
      },
      "execution_count": 31,
      "outputs": [
        {
          "output_type": "execute_result",
          "data": {
            "text/plain": [
              "<matplotlib.image.AxesImage at 0x7f04f7b97750>"
            ]
          },
          "metadata": {},
          "execution_count": 31
        },
        {
          "output_type": "display_data",
          "data": {
            "text/plain": [
              "<Figure size 432x288 with 1 Axes>"
            ],
            "image/png": "[encoded data removed]"
          },
          "metadata": {
            "needs_background": "light"
          }
        }
      ]
    },
    {
      "cell_type": "markdown",
      "source": [
        "#### คำสั่งที่ใช้ทำนายผลคือ predict_classes"
      ],
      "metadata": {
        "id": "JrJHLiOmNVsY"
      }
    },
    {
      "cell_type": "code",
      "source": [
        "model.predict_classes(my_image.reshape(1,32,32,3))"
      ],
      "metadata": {
        "colab": {
          "base_uri": "https://localhost:8080/",
          "height": 165
        },
        "id": "9J6Jo2_HNSsL",
        "outputId": "6415e937-3000-4497-e318-516a4c4fa5a3"
      },
      "execution_count": 32,
      "outputs": [
        {
          "output_type": "error",
          "ename": "AttributeError",
          "evalue": "ignored",
          "traceback": [
            "\u001b[0;31m---------------------------------------------------------------------------\u001b[0m",
            "\u001b[0;31mAttributeError\u001b[0m                            Traceback (most recent call last)",
            "\u001b[0;32m<ipython-input-32-c021ae9233c3>\u001b[0m in \u001b[0;36m<module>\u001b[0;34m\u001b[0m\n\u001b[0;32m----> 1\u001b[0;31m \u001b[0mmodel\u001b[0m\u001b[0;34m.\u001b[0m\u001b[0mpredict_classes\u001b[0m\u001b[0;34m(\u001b[0m\u001b[0mmy_image\u001b[0m\u001b[0;34m.\u001b[0m\u001b[0mreshape\u001b[0m\u001b[0;34m(\u001b[0m\u001b[0;36m1\u001b[0m\u001b[0;34m,\u001b[0m\u001b[0;36m32\u001b[0m\u001b[0;34m,\u001b[0m\u001b[0;36m32\u001b[0m\u001b[0;34m,\u001b[0m\u001b[0;36m3\u001b[0m\u001b[0;34m)\u001b[0m\u001b[0;34m)\u001b[0m\u001b[0;34m\u001b[0m\u001b[0;34m\u001b[0m\u001b[0m\n\u001b[0m",
            "\u001b[0;31mAttributeError\u001b[0m: 'Sequential' object has no attribute 'predict_classes'"
          ]
        }
      ]
    },
    {
      "cell_type": "markdown",
      "source": [
        "Output # array([0]) model ทำนายว่าเป็นภาพให้หมวด 0 หรือ เครื่องบิน"
      ],
      "metadata": {
        "id": "u0OaeohTOEzI"
      }
    },
    {
      "cell_type": "code",
      "source": [],
      "metadata": {
        "id": "GFUaTHqkNeXW"
      },
      "execution_count": null,
      "outputs": []
    }
  ],
  "metadata": {
    "colab": {
      "name": "Convolutional Neural Networks (CNN).ipynb",
      "provenance": [],
      "authorship_tag": "ABX9TyPL6ot7RFchyC+vsFtoQ+5F",
      "include_colab_link": true
    },
    "kernelspec": {
      "display_name": "Python 3",
      "name": "python3"
    },
    "language_info": {
      "name": "python"
    }
  },
  "nbformat": 4,
  "nbformat_minor": 0
}