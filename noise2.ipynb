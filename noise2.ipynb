{
  "nbformat": 4,
  "nbformat_minor": 0,
  "metadata": {
    "colab": {
      "provenance": [],
      "authorship_tag": "ABX9TyMS/r4Mcel6dTQjIJBT/xuB",
      "include_colab_link": true
    },
    "kernelspec": {
      "name": "python3",
      "display_name": "Python 3"
    },
    "language_info": {
      "name": "python"
    }
  },
  "cells": [
    {
      "cell_type": "markdown",
      "metadata": {
        "id": "view-in-github",
        "colab_type": "text"
      },
      "source": [
        "<a href=\"https://colab.research.google.com/github/Narissarach/Project_eye/blob/main/noise2.ipynb\" target=\"_parent\"><img src=\"https://colab.research.google.com/assets/colab-badge.svg\" alt=\"Open In Colab\"/></a>"
      ]
    },
    {
      "cell_type": "markdown",
      "source": [
        "### Import Modules"
      ],
      "metadata": {
        "id": "wtHR6QplN_ft"
      }
    },
    {
      "cell_type": "code",
      "execution_count": 1,
      "metadata": {
        "id": "LIu6ZHqfNxGP"
      },
      "outputs": [],
      "source": [
        "import numpy as np\n",
        "import matplotlib.pyplot as plt\n",
        "from keras import Sequential\n",
        "from keras.layers import Dense, Conv2D, MaxPooling2D, UpSampling2D\n",
        "from keras.datasets import mnist"
      ]
    },
    {
      "cell_type": "markdown",
      "source": [
        "### Load the Dataset"
      ],
      "metadata": {
        "id": "6FSWkVMoOyXe"
      }
    },
    {
      "cell_type": "code",
      "source": [
        "(x_train, _), (x_test, _) = mnist.load_data()"
      ],
      "metadata": {
        "colab": {
          "base_uri": "https://localhost:8080/"
        },
        "id": "ZEeiox9DQF3j",
        "outputId": "aed0099e-9052-46b6-e6f3-542b79bbae73"
      },
      "execution_count": 2,
      "outputs": [
        {
          "output_type": "stream",
          "name": "stdout",
          "text": [
            "Downloading data from https://storage.googleapis.com/tensorflow/tf-keras-datasets/mnist.npz\n",
            "11490434/11490434 [==============================] - 0s 0us/step\n"
          ]
        }
      ]
    },
    {
      "cell_type": "code",
      "source": [
        "# normalize the image data\n",
        "x_train = x_train.astype('float32')/255\n",
        "x_test = x_test.astype('float32')/255"
      ],
      "metadata": {
        "id": "4PNEZbGsQDo1"
      },
      "execution_count": 3,
      "outputs": []
    },
    {
      "cell_type": "code",
      "source": [
        "# reshape in the input data for the model\n",
        "x_train = x_train.reshape(len(x_train), 28, 28, 1)\n",
        "x_test = x_test.reshape(len(x_test), 28, 28, 1)\n",
        "x_test.shape"
      ],
      "metadata": {
        "colab": {
          "base_uri": "https://localhost:8080/"
        },
        "id": "9PuKUyNpPxTv",
        "outputId": "f0f11f29-3513-45df-aa99-d3f0b638adf5"
      },
      "execution_count": 4,
      "outputs": [
        {
          "output_type": "execute_result",
          "data": {
            "text/plain": [
              "(10000, 28, 28, 1)"
            ]
          },
          "metadata": {},
          "execution_count": 4
        }
      ]
    },
    {
      "cell_type": "markdown",
      "source": [
        "### Add Noise to the Image"
      ],
      "metadata": {
        "id": "UL1nRVv9q0mw"
      }
    },
    {
      "cell_type": "code",
      "source": [
        "# add noise\n",
        "noise_factor = 0.6\n",
        "x_train_noisy = x_train + noise_factor * np.random.normal(loc=0.0, scale=1.0, size=x_train.shape)\n",
        "x_test_noisy = x_test + noise_factor * np.random.normal(loc=0.0, scale=1.0, size=x_test.shape)"
      ],
      "metadata": {
        "id": "fuj2ERhHrD-n"
      },
      "execution_count": 7,
      "outputs": []
    },
    {
      "cell_type": "code",
      "source": [
        "# clip the values in the range of 0-1\n",
        "x_train_noisy = np.clip(x_train_noisy, 0., 1.)\n",
        "x_test_noisy = np.clip(x_test_noisy, 0., 1.)"
      ],
      "metadata": {
        "id": "GGw_ZmEfsJ99"
      },
      "execution_count": 11,
      "outputs": []
    },
    {
      "cell_type": "markdown",
      "source": [
        "### Exploratory Data Analysis"
      ],
      "metadata": {
        "id": "XHZ0TVrTQPX7"
      }
    },
    {
      "cell_type": "code",
      "source": [
        "# randomly select input image\n",
        "index = np.random.randint(len(x_test))\n",
        "# plot the image\n",
        "plt.imshow(x_test[index].reshape(28,28))\n",
        "plt.gray()"
      ],
      "metadata": {
        "colab": {
          "base_uri": "https://localhost:8080/",
          "height": 265
        },
        "id": "VUKxqHqNQTLZ",
        "outputId": "683621ce-0969-41dc-e363-cb2ca0fb6d3f"
      },
      "execution_count": 14,
      "outputs": [
        {
          "output_type": "display_data",
          "data": {
            "text/plain": [
              "<Figure size 432x288 with 1 Axes>"
            ],
            "image/png": "[encoded data removed]"
          },
          "metadata": {
            "needs_background": "light"
          }
        }
      ]
    },
    {
      "cell_type": "code",
      "source": [
        "# randomly select input image\n",
        "index = np.random.randint(len(x_test))\n",
        "# plot the image\n",
        "plt.imshow(x_test_noisy[index].reshape(28,28))\n",
        "plt.gray()"
      ],
      "metadata": {
        "colab": {
          "base_uri": "https://localhost:8080/",
          "height": 265
        },
        "id": "0Ooa32SUqyky",
        "outputId": "83913dd7-03c4-4b64-f236-c52fc613c40a"
      },
      "execution_count": 16,
      "outputs": [
        {
          "output_type": "display_data",
          "data": {
            "text/plain": [
              "<Figure size 432x288 with 1 Axes>"
            ],
            "image/png": "[encoded data removed]"
          },
          "metadata": {
            "needs_background": "light"
          }
        }
      ]
    },
    {
      "cell_type": "code",
      "source": [
        "# randomly select input image\n",
        "index = np.random.randint(len(x_test))\n",
        "# plot the image\n",
        "plt.imshow(x_test_noisy[index].reshape(28,28))\n",
        "plt.gray()"
      ],
      "metadata": {
        "colab": {
          "base_uri": "https://localhost:8080/",
          "height": 265
        },
        "id": "E8RNxmV1tGxQ",
        "outputId": "18ed0fd0-9638-4cc6-eee0-c79a8b5776c7"
      },
      "execution_count": 17,
      "outputs": [
        {
          "output_type": "display_data",
          "data": {
            "text/plain": [
              "<Figure size 432x288 with 1 Axes>"
            ],
            "image/png": "[encoded data removed]"
          },
          "metadata": {
            "needs_background": "light"
          }
        }
      ]
    },
    {
      "cell_type": "code",
      "source": [
        "plt.imshow(x_test[index].reshape(28,28))\n",
        "plt.gray()"
      ],
      "metadata": {
        "colab": {
          "base_uri": "https://localhost:8080/",
          "height": 265
        },
        "id": "LCV56APftQja",
        "outputId": "97b6637a-33c6-4434-f66c-8e4f0f600b92"
      },
      "execution_count": 18,
      "outputs": [
        {
          "output_type": "display_data",
          "data": {
            "text/plain": [
              "<Figure size 432x288 with 1 Axes>"
            ],
            "image/png": "[encoded data removed]"
          },
          "metadata": {
            "needs_background": "light"
          }
        }
      ]
    },
    {
      "cell_type": "markdown",
      "source": [
        "### Model"
      ],
      "metadata": {
        "id": "JHi9XO4J6-Dg"
      }
    },
    {
      "cell_type": "code",
      "source": [
        "model = Sequential([\n",
        "    # encoder network\n",
        "    Conv2D(32, 3, activation='relu', padding='same', input_shape=(28, 28, 1)),\n",
        "    MaxPooling2D(2, padding='same'),\n",
        "    Conv2D(64, 3, activation='relu', padding='same'),\n",
        "    MaxPooling2D(2, padding='same'),\n",
        "    # decoder network\n",
        "    Conv2D(16, 3, activation='relu', padding='same'),\n",
        "    UpSampling2D(2),\n",
        "    Conv2D(32, 3, activation='relu', padding='same'),\n",
        "    UpSampling2D(2),\n",
        "    # output layer\n",
        "    Conv2D(1, 3, activation='sigmoid', padding='same')\n",
        "])\n",
        "\n",
        "model.compile(optimizer='adam', loss='binary_crossentropy')\n",
        "model.summary()"
      ],
      "metadata": {
        "colab": {
          "base_uri": "https://localhost:8080/"
        },
        "id": "8J67b1YZtYFG",
        "outputId": "b7203b92-6718-477d-b0e1-d72b61930f74"
      },
      "execution_count": 19,
      "outputs": [
        {
          "output_type": "stream",
          "name": "stdout",
          "text": [
            "Model: \"sequential\"\n",
            "_________________________________________________________________\n",
            " Layer (type)                Output Shape              Param #   \n",
            "=================================================================\n",
            " conv2d (Conv2D)             (None, 28, 28, 32)        320       \n",
            "                                                                 \n",
            " max_pooling2d (MaxPooling2D  (None, 14, 14, 32)       0         \n",
            " )                                                               \n",
            "                                                                 \n",
            " conv2d_1 (Conv2D)           (None, 14, 14, 64)        18496     \n",
            "                                                                 \n",
            " max_pooling2d_1 (MaxPooling  (None, 7, 7, 64)         0         \n",
            " 2D)                                                             \n",
            "                                                                 \n",
            " conv2d_2 (Conv2D)           (None, 7, 7, 16)          9232      \n",
            "                                                                 \n",
            " up_sampling2d (UpSampling2D  (None, 14, 14, 16)       0         \n",
            " )                                                               \n",
            "                                                                 \n",
            " conv2d_3 (Conv2D)           (None, 14, 14, 32)        4640      \n",
            "                                                                 \n",
            " up_sampling2d_1 (UpSampling  (None, 28, 28, 32)       0         \n",
            " 2D)                                                             \n",
            "                                                                 \n",
            " conv2d_4 (Conv2D)           (None, 28, 28, 1)         289       \n",
            "                                                                 \n",
            "=================================================================\n",
            "Total params: 32,977\n",
            "Trainable params: 32,977\n",
            "Non-trainable params: 0\n",
            "_________________________________________________________________\n"
          ]
        }
      ]
    },
    {
      "cell_type": "code",
      "source": [
        "# train the model\n",
        "model.fit(x_train_noisy, x_train, epochs=20, batch_size=256, validation_data=(x_test_noisy, x_test))"
      ],
      "metadata": {
        "colab": {
          "base_uri": "https://localhost:8080/"
        },
        "id": "Tb-zWZ8O8r64",
        "outputId": "20aa4a60-b75e-4ad9-9cf2-056c341de530"
      },
      "execution_count": 21,
      "outputs": [
        {
          "output_type": "stream",
          "name": "stdout",
          "text": [
            "Epoch 1/20\n",
            "235/235 [==============================] - 180s 765ms/step - loss: 0.1827 - val_loss: 0.1412\n",
            "Epoch 2/20\n",
            "235/235 [==============================] - 167s 710ms/step - loss: 0.1365 - val_loss: 0.1309\n",
            "Epoch 3/20\n",
            "235/235 [==============================] - 165s 703ms/step - loss: 0.1298 - val_loss: 0.1267\n",
            "Epoch 4/20\n",
            "235/235 [==============================] - 169s 720ms/step - loss: 0.1261 - val_loss: 0.1236\n",
            "Epoch 5/20\n",
            "235/235 [==============================] - 166s 705ms/step - loss: 0.1236 - val_loss: 0.1219\n",
            "Epoch 6/20\n",
            "235/235 [==============================] - 165s 703ms/step - loss: 0.1219 - val_loss: 0.1201\n",
            "Epoch 7/20\n",
            "235/235 [==============================] - 166s 705ms/step - loss: 0.1204 - val_loss: 0.1193\n",
            "Epoch 8/20\n",
            "235/235 [==============================] - 164s 697ms/step - loss: 0.1190 - val_loss: 0.1181\n",
            "Epoch 9/20\n",
            "235/235 [==============================] - 165s 703ms/step - loss: 0.1179 - val_loss: 0.1169\n",
            "Epoch 10/20\n",
            "235/235 [==============================] - 168s 716ms/step - loss: 0.1172 - val_loss: 0.1161\n",
            "Epoch 11/20\n",
            "235/235 [==============================] - 165s 702ms/step - loss: 0.1163 - val_loss: 0.1154\n",
            "Epoch 12/20\n",
            "235/235 [==============================] - 164s 697ms/step - loss: 0.1157 - val_loss: 0.1149\n",
            "Epoch 13/20\n",
            "235/235 [==============================] - 164s 697ms/step - loss: 0.1151 - val_loss: 0.1141\n",
            "Epoch 14/20\n",
            "235/235 [==============================] - 164s 700ms/step - loss: 0.1146 - val_loss: 0.1137\n",
            "Epoch 15/20\n",
            "235/235 [==============================] - 163s 692ms/step - loss: 0.1140 - val_loss: 0.1131\n",
            "Epoch 16/20\n",
            "235/235 [==============================] - 164s 696ms/step - loss: 0.1136 - val_loss: 0.1129\n",
            "Epoch 17/20\n",
            "235/235 [==============================] - 163s 692ms/step - loss: 0.1130 - val_loss: 0.1123\n",
            "Epoch 18/20\n",
            "235/235 [==============================] - 165s 702ms/step - loss: 0.1127 - val_loss: 0.1120\n",
            "Epoch 19/20\n",
            "235/235 [==============================] - 164s 697ms/step - loss: 0.1123 - val_loss: 0.1115\n",
            "Epoch 20/20\n",
            "235/235 [==============================] - 164s 699ms/step - loss: 0.1119 - val_loss: 0.1118\n"
          ]
        },
        {
          "output_type": "execute_result",
          "data": {
            "text/plain": [
              "<keras.callbacks.History at 0x7fb940cd7090>"
            ]
          },
          "metadata": {},
          "execution_count": 21
        }
      ]
    },
    {
      "cell_type": "markdown",
      "source": [
        "### Visualize the Results"
      ],
      "metadata": {
        "id": "jB9Pmr-PLKAg"
      }
    },
    {
      "cell_type": "code",
      "source": [
        "# predict the results from model (get compressed image)\n",
        "pred = model.predict(x_test)"
      ],
      "metadata": {
        "colab": {
          "base_uri": "https://localhost:8080/"
        },
        "id": "If2UwYdZ9I-N",
        "outputId": "668a4acf-2c62-4f60-ac93-7607fa9b15ac"
      },
      "execution_count": 22,
      "outputs": [
        {
          "output_type": "stream",
          "name": "stdout",
          "text": [
            "313/313 [==============================] - 8s 24ms/step\n"
          ]
        }
      ]
    },
    {
      "cell_type": "code",
      "source": [
        "# randomly select input image\n",
        "index = np.random.randint(len(x_test))\n",
        "# plot the image\n",
        "plt.imshow(x_test_noisy[index].reshape(28,28))\n",
        "plt.gray()"
      ],
      "metadata": {
        "colab": {
          "base_uri": "https://localhost:8080/",
          "height": 265
        },
        "id": "ak-vh2aGL037",
        "outputId": "55cf8ef9-08db-46e6-fadb-5b23dae26d10"
      },
      "execution_count": 24,
      "outputs": [
        {
          "output_type": "display_data",
          "data": {
            "text/plain": [
              "<Figure size 432x288 with 1 Axes>"
            ],
            "image/png": "[encoded data removed]"
          },
          "metadata": {
            "needs_background": "light"
          }
        }
      ]
    },
    {
      "cell_type": "code",
      "source": [
        "# visualize compressed image\n",
        "plt.imshow(pred[index].reshape(28,28))\n",
        "plt.gray()"
      ],
      "metadata": {
        "colab": {
          "base_uri": "https://localhost:8080/",
          "height": 265
        },
        "id": "Ym94P0-ZMaKA",
        "outputId": "ff462cad-9116-408a-8b6f-e2572bf11459"
      },
      "execution_count": 25,
      "outputs": [
        {
          "output_type": "display_data",
          "data": {
            "text/plain": [
              "<Figure size 432x288 with 1 Axes>"
            ],
            "image/png": "[encoded data removed]"
          },
          "metadata": {
            "needs_background": "light"
          }
        }
      ]
    },
    {
      "cell_type": "code",
      "source": [
        "index = np.random.randint(len(x_test))\n",
        "plt.figure(figsize=(10, 4))\n",
        "# display original image\n",
        "ax = plt.subplot(1, 2, 1)\n",
        "plt.imshow(x_test_noisy[index].reshape(28,28))\n",
        "plt.gray()\n",
        "ax.get_xaxis().set_visible(False)\n",
        "ax.get_yaxis().set_visible(False)\n",
        "# display compressed image\n",
        "ax = plt.subplot(1, 2, 2)\n",
        "plt.imshow(pred[index].reshape(28,28))\n",
        "plt.gray()\n",
        "ax.get_xaxis().set_visible(False)\n",
        "ax.get_yaxis().set_visible(False)\n",
        "plt.show()"
      ],
      "metadata": {
        "colab": {
          "base_uri": "https://localhost:8080/",
          "height": 252
        },
        "id": "9MnLSeRfMwyS",
        "outputId": "88850782-c395-4fc5-dad6-8519434b4d83"
      },
      "execution_count": 29,
      "outputs": [
        {
          "output_type": "display_data",
          "data": {
            "text/plain": [
              "<Figure size 720x288 with 2 Axes>"
            ],
            "image/png": "[encoded data removed]"
          },
          "metadata": {
            "needs_background": "light"
          }
        }
      ]
    },
    {
      "cell_type": "code",
      "source": [],
      "metadata": {
        "id": "fXNB0IDXWc81"
      },
      "execution_count": null,
      "outputs": []
    }
  ]
}